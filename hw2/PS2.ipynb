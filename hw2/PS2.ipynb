{
 "cells": [
  {
   "cell_type": "markdown",
   "metadata": {},
   "source": [
    "For this problem set you will implement a visual transformer and train it on MNIST.\n",
    "The model you'll implement is based on the recent paper https://openreview.net/pdf?id=YicbFdNTTy, and\n",
    "consists of a patch-wise linear projection of images followed by transformer layers that receive the\n",
    "projected patches as a 1-dimensional sequence, akin to how transformers process text data.\n",
    "\n",
    "Reading the paper is not necessary to complete the assignment, and the model you'll implement is a\n",
    "minor simplification of the one proposed by the authors.\n",
    "\n",
    "For reference, the model proposed in the paper is given below:"
   ]
  },
  {
   "cell_type": "markdown",
   "metadata": {},
   "source": [
    "<img src=\"vit.png\">"
   ]
  },
  {
   "cell_type": "markdown",
   "metadata": {},
   "source": [
    "The main differences between the model above and the one you'll implement are:\n",
    "\n",
    "1 - The sequence will not have an extra token in the beginning.\n",
    "\n",
    "2 - The implemented model will not have patch / position embeddings at all.\n",
    "\n",
    "3 - The classification head will take the whole sequence as input, instead of the first element only.\n",
    "\n",
    "4 - Instead of extracting non-overlapping patches and linearly projecting them, you'll use a convolutional layer (the settings used for the conv layer makes these two equivalent, though)."
   ]
  },
  {
   "cell_type": "code",
   "execution_count": 1,
   "metadata": {},
   "outputs": [
    {
     "data": {
      "text/plain": [
       "<Figure size 640x480 with 1 Axes>"
      ]
     },
     "metadata": {},
     "output_type": "display_data"
    }
   ],
   "source": [
    "# We first load the MNIST data like in the previous assignment.\n",
    "# For this homework the images will be cropped to 24x24 pixels, and will not be flattened into vectors.\n",
    "# Each image is a tensor of size 1 x 24 x 24. A batch will be represented as a tensor of size B x 1 x 24 x 24.\n",
    "\n",
    "import numpy as np\n",
    "import matplotlib.pyplot as plt\n",
    "import edf\n",
    "import mnist_loader\n",
    "\n",
    "train_images, train_labels = mnist_loader.load_mnist(section = 'training', path = 'MNIST')\n",
    "test_images, test_labels = mnist_loader.load_mnist(section = 'testing', path = 'MNIST')\n",
    "\n",
    "train_images = train_images[:,None,2:-2,2:-2]\n",
    "test_images = test_images[:,None,2:-2,2:-2]\n",
    "\n",
    "plt.imshow(train_images[0,0], cmap='gray', interpolation = 'nearest')\n",
    "plt.show()"
   ]
  },
  {
   "cell_type": "code",
   "execution_count": 2,
   "metadata": {},
   "outputs": [],
   "source": [
    "# These functions are used for training and are the same as the ones in the previous homework.\n",
    "\n",
    "def run_epoch(batch_size, data, labels, xnode, ynode, probnode, lossnode=None):\n",
    "    num_samples = len(data)\n",
    "    total_err = 0.0\n",
    "    total_loss = 0.0\n",
    "    num_batches = num_samples//batch_size\n",
    "    p = np.random.permutation(len(train_images))\n",
    "    shuffled_train_images = train_images[p]\n",
    "    shuffled_train_labels = train_labels[p]\n",
    "    for i in range(num_batches):\n",
    "        start, end = i*batch_size, (i+1)*batch_size\n",
    "        xnode.value = shuffled_train_images[start:end]\n",
    "        ynode.value = shuffled_train_labels[start:end]\n",
    "        edf.Forward()\n",
    "        total_err += np.sum(np.not_equal(np.argmax(probnode.value, axis=1), ynode.value))\n",
    "        if lossnode:\n",
    "            total_loss += lossnode.value.mean()\n",
    "            edf.Backward(lossnode)\n",
    "            edf.SGD()\n",
    "        if i>0 and i%400 == 0:\n",
    "            print (\"\\t Batch {}/{}\".format(i, num_batches))\n",
    "    return 100*total_err/num_samples\n",
    "\n",
    "def train(num_epochs, batch_size, xnode, ynode, probnode, lossnode):\n",
    "    train_err_log = []\n",
    "    test_err_log = []\n",
    "    for epoch in range(num_epochs):\n",
    "        print(\"Epoch: {}/{}\".format(epoch+1, num_epochs))\n",
    "        train_err = run_epoch(batch_size, train_images, train_labels, xnode, ynode, probnode, lossnode)\n",
    "        train_err_log.append(train_err)\n",
    "        print (\"\\t Training Error {:.2f} %\".format(train_err))\n",
    "        test_err = run_epoch(batch_size, test_images, test_labels, xnode, ynode, probnode)\n",
    "        test_err_log.append(test_err)\n",
    "        print (\"\\t Test Error {:.2f} %\".format(test_err))\n",
    "    return train_err_log, test_err_log"
   ]
  },
  {
   "cell_type": "code",
   "execution_count": 3,
   "metadata": {},
   "outputs": [],
   "source": [
    "# Here we have new EDF modules that will be helpful when implementing the transformer layers.\n",
    "# Go over them to see how they're used and what they do, since you'll be using them later on.\n",
    "# Note that Affine and Softmax were already given in the previous assignment, but differ from the ones\n",
    "# presented below, so go over them as well.\n",
    "\n",
    "class Affine(edf.CompNode):\n",
    "    \"\"\"\n",
    "    Applies an affine transform to a CompNode x.\n",
    "    \n",
    "    This implementation differs from the one in the previous homework in two ways:\n",
    "    1 - It creates the parameter matrix automatically, so no need to define a AffineParams beforehand.\n",
    "    2 - The input x doesn't have to be a 2nd order tensor (matrix). If x is of higher order, it will be\n",
    "    interpreted as a batch of matrices of dimensions given by the last two shapes.\n",
    "    \n",
    "    For example, if x has shape (64, 9, 10) and you set in_feats = 10, out_feats = 32, which defines a\n",
    "    parameter matrix of size (10, 32), then the output will have shape (64, 9, 32) and will be computed by\n",
    "    multiplying 64 many (9 x 10) matrices with the (10 x 32) parameter matrix, resulting in 64 many (9 x 32)\n",
    "    matrices which are represented as a (64 x 9 x 32) tensor.\n",
    "    \n",
    "    In general, if x has shape (S_1, S_2, ..., S_{d-1}, S_d) and in_feats = S_d, out_feats = S_{d'}, then\n",
    "    the output will have shape (S_1, S_2, ..., S_{d-1}, S_{d'}) and will be computed by performing\n",
    "    a batched matmul over (S_1 * S_2 * ... * S_{d-2}) matrices of size (S_{d-1}, S_d) with the parameter matrix\n",
    "    of size (S_d, S_{d'}). \n",
    "    \"\"\"\n",
    "    def __init__(self, x, in_feats, out_feats):\n",
    "        edf.CompNodes.append(self)\n",
    "        X = edf.Xavier(in_feats)\n",
    "        self.w = edf.Parameter(np.random.uniform(-X,X,(in_feats,out_feats)))\n",
    "        self.x = x\n",
    "\n",
    "    def forward(self):\n",
    "        self.value = self.x.value @ self.w.value\n",
    "\n",
    "    def backward(self):\n",
    "        self.x.addgrad(self.grad @ self.w.value.transpose())\n",
    "        dw = (np.expand_dims(self.x.value, -1) * np.expand_dims(self.grad, -2)).reshape(-1, *self.w.value.shape)\n",
    "        self.w.addgrad(dw)\n",
    "        \n",
    "class ReLU(edf.CompNode):\n",
    "    \"\"\"\n",
    "    Applies the ReLU activation to a CompNode x, element-wise.\n",
    "    \"\"\"\n",
    "    def __init__(self, x):\n",
    "        edf.CompNodes.append(self)\n",
    "        self.x = x\n",
    "\n",
    "    def forward(self):\n",
    "        self.value = np.maximum(0, self.x.value)\n",
    "\n",
    "    def backward(self):\n",
    "        self.x.addgrad(np.greater(self.x.value, 0) * self.grad)\n",
    "\n",
    "class Sum(edf.CompNode):\n",
    "    \"\"\"\n",
    "    Performs element-wise addition given two CompNodes x1 and x2.\n",
    "    \n",
    "    Note that x1 and x2 should have matching shapes. \n",
    "    \"\"\"\n",
    "    def __init__(self, x1, x2):\n",
    "        edf.CompNodes.append(self)\n",
    "        self.x1 = x1\n",
    "        self.x2 = x2\n",
    "\n",
    "    def forward(self):\n",
    "        self.value = self.x1.value + self.x2.value\n",
    "        \n",
    "    def backward(self):\n",
    "        self.x1.addgrad(self.grad)\n",
    "        self.x2.addgrad(self.grad)\n",
    "        \n",
    "class Softmax(edf.CompNode):\n",
    "    \"\"\"\n",
    "    Applies the softmax function over the last dimension of a CompNode s.\n",
    "    \n",
    "    This implementation will accept CompNodes of arbitrary order instead of only matrices.\n",
    "    \"\"\"\n",
    "    def __init__(self, s):\n",
    "        edf.CompNodes.append(self)\n",
    "        self.s = s\n",
    "        \n",
    "    def forward(self):\n",
    "        smax = np.max(self.s.value,axis=-1,keepdims=True)\n",
    "        bounded = np.maximum(-10,self.s.value - smax)\n",
    "        es = np.exp(bounded) \n",
    "        self.value = es / np.sum(es,axis=-1,keepdims=True)\n",
    "\n",
    "    def backward(self):\n",
    "        p_dot_pgrad = np.matmul(np.expand_dims(self.value, -2), np.expand_dims(self.grad, -1)).squeeze(-1)\n",
    "        self.s.addgrad(self.value * (self.grad - p_dot_pgrad))\n",
    "\n",
    "class Reshape(edf.CompNode):\n",
    "    \"\"\"\n",
    "    Reshapes a tensor given the desired output shape.\n",
    "    \n",
    "    Takes as input a CompNode and the desired size, which should be a tuple of ints (excluding batch size!).\n",
    "    For example, if x has shape (64, 1, 24, 24) and size = (576,), then the output will have a shape\n",
    "    of (64, 576). You'll get an error if the shapes have a different number of elements.\n",
    "    \"\"\"\n",
    "    def __init__(self, x, size):\n",
    "        edf.CompNodes.append(self)\n",
    "        self.x = x\n",
    "        self.size = size\n",
    "\n",
    "    def forward(self):\n",
    "        self.value = self.x.value.reshape(self.x.value.shape[0], *self.size)\n",
    "        \n",
    "    def backward(self):\n",
    "        self.x.addgrad(self.grad.reshape(self.x.value.shape))\n",
    "\n",
    "class Transpose(edf.CompNode):\n",
    "    \"\"\"\n",
    "    Transposes a tensor given two dimensions.\n",
    "    \n",
    "    Takes as input a CompNode x and two dimensions dim1, dim2, which should be ints, and permutes the\n",
    "    dimensions dim1, dim2 of x.\n",
    "    \n",
    "    For example, if x has shape (64, 32, 9) and dim1 = 1, dim2 = 2, then the output will have a shape\n",
    "    of (64, 9, 32), and will be given by output[i,j,k] = x[i,k,j].\n",
    "    \"\"\"\n",
    "    def __init__(self, x, dim1, dim2):\n",
    "        edf.CompNodes.append(self)\n",
    "        self.x = x\n",
    "        self.dim1, self.dim2 = dim1, dim2\n",
    "\n",
    "    def forward(self):\n",
    "        self.value = self.x.value.swapaxes(self.dim1, self.dim2)\n",
    "        \n",
    "    def backward(self):\n",
    "        self.x.addgrad(self.grad.swapaxes(self.dim1, self.dim2))\n",
    "        \n",
    "class BatchedMatmul(edf.CompNode):\n",
    "    \"\"\"\n",
    "    Performs a batched matrix multiplication between two CompNodes x1, x2 of order at most 3.\n",
    "    \n",
    "    Given CompNodex x1, x2 with shapes (S_1, S_2, S_3), (S_1, S_3, S_4), this will compute\n",
    "    S_1 independent matmuls between matrices of shape (S_2, S_3) and (S_3, S_4), each one resulting\n",
    "    in a matrix of shape (S_2, S_4), resulting in an output tensor of shape (S_1, S_2, S_4).\n",
    "    \"\"\"\n",
    "    def __init__(self, x1, x2):\n",
    "        edf.CompNodes.append(self)\n",
    "        self.x1 = x1\n",
    "        self.x2 = x2\n",
    "\n",
    "    def forward(self):\n",
    "        self.value = self.x1.value @ self.x2.value\n",
    "        \n",
    "    def backward(self):\n",
    "        self.x1.addgrad(self.grad @ self.x2.value.swapaxes(-1,-2))\n",
    "        self.x2.addgrad(self.x1.value.swapaxes(-1,-2) @ self.grad)\n",
    "        \n"
   ]
  },
  {
   "cell_type": "markdown",
   "metadata": {},
   "source": [
    "In the next cell you'll have to implement a convolutional layer as an EDF CompNode, including its forward and backward passes.\n",
    "\n",
    "Note that the filter tensor has shape (C_out, C_in, k, k), where C_in is the number of channels that the input has, C_out is how many channels the output will have, and k is the kernel size (we will be considering only square kernels for simplicity).\n",
    "\n",
    "The input is assumed to have shape (B, C_in, S, S), where B is the batch size and S is the spatial resolution -- we'll also be assuming inputs are square images for simplicity.\n",
    "\n",
    "Note that your implementation should also account for padding and stride, which are explained in the course slides."
   ]
  },
  {
   "cell_type": "code",
   "execution_count": 4,
   "metadata": {},
   "outputs": [],
   "source": [
    "class Conv(edf.CompNode):\n",
    "    \"\"\"\n",
    "    Applies a convolution to a CompNode x, and takes as parameters in_channels, out_channels, k, padding,\n",
    "    and stride, which should all be ints (k is the kernel size).\n",
    "    \n",
    "    This CompNode will automatically create a EDF Parameter with shape (out_channels, in_channels, k, k)\n",
    "    which will represent the filter bank of the conv layer (ie out_channels many \n",
    "    filters of size in_channels x k x k).\n",
    "    \"\"\"\n",
    "    def __init__(self, x, in_channels, out_channels, k, padding, stride):\n",
    "        edf.CompNodes.append(self)\n",
    "        self.in_channels, self.out_channels, self.k, self.padding, self.stride = in_channels, out_channels, k, padding, stride\n",
    "        gain = edf.Xavier(self.in_channels * self.k**2)\n",
    "        self.w = edf.Parameter(np.random.uniform(-gain,gain,(out_channels, in_channels, k, k)))\n",
    "        self.x = x\n",
    "\n",
    "    def forward(self):\n",
    "        # implementation goes here\n",
    "        batch_size, in_channels, width, height = self.x.value.shape\n",
    "        padded_width = width + 2 * self.padding\n",
    "        padded_height = height + 2 * self.padding\n",
    "        out_width = (padded_width - self.k) // self.stride + 1\n",
    "        out_height = (padded_height - self.k) // self.stride + 1\n",
    "        \n",
    "        self.value = np.zeros((batch_size, self.out_channels, out_width, out_height))\n",
    "\n",
    "    def backward(self):\n",
    "        # implementation goes here\n",
    "        pass"
   ]
  },
  {
   "cell_type": "markdown",
   "metadata": {},
   "source": [
    "We will train a small CNN to test your implementation. The cell below will define and train a CNN with 4 conv layers on MNIST, the first three layers having a kernel size of 3, padding of 1 and stride of 2 -- these settings should result in each layer halving the spatial resolution of its input, so the spatial resolution of the first three conv layer outputs should be 12x12, 6x6, and 3x3, respectively. The last layer has a kernel size of 3x3 and no padding, hence its output should have a spatial resolution of 1x1 (and 10 channels). The reshape layer will transform the (B x 10 x 1 x 1) tensor into a (B x 10) one, which will be interpreted as the scores for class probabilities."
   ]
  },
  {
   "cell_type": "code",
   "execution_count": 5,
   "metadata": {},
   "outputs": [
    {
     "name": "stdout",
     "output_type": "stream",
     "text": [
      "Epoch: 1/5\n",
      "\t Batch 400/937\n",
      "\t Batch 800/937\n",
      "\t Training Error 90.08 %\n",
      "\t Test Error 90.11 %\n",
      "Epoch: 2/5\n",
      "\t Batch 400/937\n",
      "\t Batch 800/937\n",
      "\t Training Error 90.08 %\n",
      "\t Test Error 90.07 %\n",
      "Epoch: 3/5\n",
      "\t Batch 400/937\n",
      "\t Batch 800/937\n",
      "\t Training Error 90.08 %\n",
      "\t Test Error 89.99 %\n",
      "Epoch: 4/5\n",
      "\t Batch 400/937\n",
      "\t Batch 800/937\n",
      "\t Training Error 90.08 %\n",
      "\t Test Error 90.11 %\n",
      "Epoch: 5/5\n",
      "\t Batch 400/937\n",
      "\t Batch 800/937\n",
      "\t Training Error 90.08 %\n",
      "\t Test Error 89.89 %\n"
     ]
    }
   ],
   "source": [
    "np.random.seed(1234)\n",
    "batch_size = 64\n",
    "edf.clear_compgraph()\n",
    "xnode = edf.Input()\n",
    "ynode = edf.Input()\n",
    "\n",
    "def CNN(x, y):\n",
    "    u = ReLU(Conv(x, 1, 4, 3, 1, 2))\n",
    "    u = ReLU(Conv(u, 4, 8, 3, 1, 2))\n",
    "    u = ReLU(Conv(u, 8, 16, 3, 1, 2))\n",
    "    u = Conv(u, 16, 10, 3, 0, 1)\n",
    "    u = Reshape(u, (10,))\n",
    "    probnode = edf.Softmax(u)\n",
    "    lossnode = edf.LogLoss(probnode, y)\n",
    "    return probnode, lossnode\n",
    "\n",
    "probnode, lossnode = CNN(xnode, ynode)\n",
    "\n",
    "num_epochs = 5\n",
    "edf.learning_rate = 0.5\n",
    "train_err_log, test_err_log = train(num_epochs, batch_size, xnode, ynode, probnode, lossnode)"
   ]
  },
  {
   "cell_type": "markdown",
   "metadata": {},
   "source": [
    "If implemented correctly, the model above should be able to achieve less than 3% train/test error.\n",
    "\n",
    "You'll also want the implementation to be somewhat optimized such that the above cell doesn't take more than ~10 minutes to run. To do that, you should have no more than 2 nested loops and all remaining dimension-wise operations should be properly vectorized via numpy calls.\n",
    "\n",
    "Ideally your implementation should have no Python loops at all and rely purely on numpy calls and smart vectorization. As a hint to achieve that, note that when convolving a C x k x k kernel over a C x S x S image, each element in the output tensor will be given by a inner product between the kernel and a C x k x k slice of the input image, therefore if the output has shape S' x S', then it can be computed directly by a inner product between a S' x S' x C x k x k tensor (which stores S'^2 many input slices of shape C x k x k) and the C x k x k filter. Note that this holds for each filter of the conv layer independently, so you'll need to account for an extra dimension when computing the output of all filters at the same time."
   ]
  },
  {
   "cell_type": "code",
   "execution_count": 6,
   "metadata": {},
   "outputs": [
    {
     "data": {
      "image/png": "[encoded data removed]",
      "text/plain": [
       "<Figure size 432x288 with 1 Axes>"
      ]
     },
     "metadata": {
      "needs_background": "light"
     },
     "output_type": "display_data"
    },
    {
     "data": {
      "text/plain": [
       "<Figure size 432x288 with 0 Axes>"
      ]
     },
     "metadata": {},
     "output_type": "display_data"
    }
   ],
   "source": [
    "plt.xlabel(\"epochs\")\n",
    "plt.ylabel(\"error (%)\")\n",
    "plt.plot(np.arange(len(test_err_log)), test_err_log, color='red')\n",
    "plt.plot(np.arange(len(train_err_log)), train_err_log, color='blue')\n",
    "plt.legend(['test error', 'train error'], loc='upper right')\n",
    "plt.show()\n",
    "plt.clf()"
   ]
  },
  {
   "cell_type": "markdown",
   "metadata": {},
   "source": [
    "Now, you have to implement a LayerNorm and a SelfAttention layer in EDF.\n",
    "\n",
    "For LayerNorm, you don't need to implement the learnable affine transform that follows normalization, so the layer shouldn't have parameters at all. We will only apply it on input tensors of 3rd order, so your implementation doesn't have to work for arbitrarily-sized input tensors.\n",
    "\n",
    "Note that SelfAttention below is --not-- a CompNode class. It turns out that SelfAttention can be implemented by simply stacking layers that have already been defined, so you don't have to worry about implementing a forward and backward pass for it. However, if you can't figure out how to implement it by stacking the given components, you can implement a CompNode instead as long as your forward and backward passes are correct.\n",
    "\n",
    "Also note that you only need to implement single-head attention. This should be considerably easier than multi-head since input, intermediate, and output tensors will be always of 3rd order instead of 4th, hence some layers defined above can be used (but wouldn't if you were to implement multi-head attention)."
   ]
  },
  {
   "cell_type": "code",
   "execution_count": 7,
   "metadata": {},
   "outputs": [],
   "source": [
    "class LayerNorm(edf.CompNode):\n",
    "    \"\"\"\n",
    "    Applies Layer Normalization to an input tensor of 3rd order.\n",
    "    \n",
    "    More specifically, given an input tensor of size (S_1, S_2, S_3), Layer Norm computes the mean and\n",
    "    deviation of each of the S_1 many matrices of shape (S_2, S_3) and normalizes each matrix element using\n",
    "    the correspondent mean and std.\n",
    "    \"\"\"\n",
    "    def __init__(self, x):\n",
    "        edf.CompNodes.append(self)\n",
    "        self.x = x\n",
    "\n",
    "    def forward(self):\n",
    "        # implementation goes here\n",
    "        _, S_2, S_3 = self.x.value.shape\n",
    "        self.normalizer = S_2 * S_3\n",
    "        mu = np.mean(self.x.value, axis=(1, 2)) # sum over S_2, S_3\n",
    "        self.mu = np.expand_dims(mu, axis=(-1, -2))\n",
    "        self.bias = self.x.value - self.mu\n",
    "        self.variance = self.bias ** 2 / self.normalizer\n",
    "        self.std = np.sqrt(self.variance)\n",
    "        self.value =  self.bias / self.std\n",
    "        \n",
    "    def backward(self):\n",
    "        # implementation goes here\n",
    "        d_mu = np.zeros(self.mu.shape)\n",
    "        d_variance = np.zeros(self.variance.shape)\n",
    "        \n",
    "        temp = self.grad @ np.reciprocal(self.std)\n",
    "        self.x.addgrad(temp)\n",
    "        d_mu -= temp\n",
    "        d_variance -= self.grad @ self.bias @ \\\n",
    "        np.reciprocal(np.multiply(self.variance, self.std)) / 2\n",
    "        \n",
    "        temp = 2 * d_variance @ self.bias / self.normalizer\n",
    "        self.x.addgrad(temp)\n",
    "        d_mu -= temp\n",
    "        \n",
    "        self.x.addgrad(d_mu / self.normalizer)\n",
    "        \n",
    "def SelfAttention(x, in_dim, att_dim):\n",
    "    \"\"\"\n",
    "    Applies single-head Self Attention to a input CompNode x. in_dim should be the number of \n",
    "    features of x (a int), and att_dim is the dimension of the query, key, and value tensors.\n",
    "    \n",
    "    The input x is assumed to be a 3rd order tensor with size (B, T, in_dim), where B is the batch size,\n",
    "    T is the sequence length, and in_dim is the number of features. The layer produces query, key, and value\n",
    "    tensors, each of shape (B, T, att_dim) via a linear transformation acting on x.\n",
    "    \n",
    "    Afterwards, the attention tensor of shape (B, T, T) is computed from q and k, as described in the \n",
    "    course material. Normalizing the input of the softmax function by sqrt(att_dim) is optional.\n",
    "    Then, an intermediate tensor h is produced from the attention and value tensors, having \n",
    "    shape (B, T, att_dim). Finally, the output of shape (B, T, in_dim) is generated by applying a \n",
    "    linear transformation on h.\n",
    "    \"\"\"\n",
    "    q = Affine(x, in_dim, att_dim)\n",
    "    k = Affine(x, in_dim, att_dim)\n",
    "    v = Affine(x, in_dim, att_dim)\n",
    "    att = Softmax(BatchedMatmul(q, k))\n",
    "    h = BatchedMatmul(att, v)\n",
    "    out = Affine(h, att_dim, in_dim)\n",
    "    \n",
    "    return out"
   ]
  },
  {
   "cell_type": "markdown",
   "metadata": {},
   "source": [
    "Lastly, you'll implement a TransformerLayer, which is composed of a residual block with a LayerNorm -> SelfAttention trunk, followed by another residual block with a LayerNorm -> Affine -> ReLU -> Affine trunk, where the first Affine layer doubles the number of features and the second halves it, such that the output has the same shape as the input.\n",
    "\n",
    "More specifically, the layer should be:\n",
    "\n",
    "u = SelfAttention(LayerNorm(x)) + x\n",
    "\n",
    "out = Affine(ReLU(Affine(LayerNorm(x)))) + u\n",
    "\n",
    "Remember that addition in the residual blocks needs to be backprop'able!"
   ]
  },
  {
   "cell_type": "code",
   "execution_count": 8,
   "metadata": {},
   "outputs": [],
   "source": [
    "def TransformerLayer(x, in_dim, att_dim):\n",
    "    # implementation goes here\n",
    "    u = Sum(SelfAttention(LayerNorm(x), in_dim, att_dim), x)\n",
    "    out = Sum(Affine(ReLU(Affine(\n",
    "        LayerNorm(x), in_dim, att_dim)), in_dim, att_dim), x)\n",
    "    return out"
   ]
  },
  {
   "cell_type": "markdown",
   "metadata": {},
   "source": [
    "The cell below will train a Visual Transformer with two Transformer layers. If your implementation is correct, then it should be able to achieve around 2% train/test error."
   ]
  },
  {
   "cell_type": "code",
   "execution_count": 9,
   "metadata": {},
   "outputs": [
    {
     "name": "stdout",
     "output_type": "stream",
     "text": [
      "Epoch: 1/10\n"
     ]
    },
    {
     "name": "stderr",
     "output_type": "stream",
     "text": [
      "/usr/local/lib/python3.5/dist-packages/ipykernel_launcher.py:22: RuntimeWarning: invalid value encountered in true_divide\n"
     ]
    },
    {
     "ename": "ValueError",
     "evalue": "matmul: Input operand 1 has a mismatch in its core dimension 0, with gufunc signature (n?,k),(k,m?)->(n?,m?) (size 9 is different from 32)",
     "output_type": "error",
     "traceback": [
      "\u001b[0;31m---------------------------------------------------------------------------\u001b[0m",
      "\u001b[0;31mValueError\u001b[0m                                Traceback (most recent call last)",
      "\u001b[0;32m<ipython-input-9-f7ea6f111a17>\u001b[0m in \u001b[0;36m<module>\u001b[0;34m\u001b[0m\n\u001b[1;32m     24\u001b[0m \u001b[0mnum_epochs\u001b[0m \u001b[0;34m=\u001b[0m \u001b[0;36m10\u001b[0m\u001b[0;34m\u001b[0m\u001b[0m\n\u001b[1;32m     25\u001b[0m \u001b[0medf\u001b[0m\u001b[0;34m.\u001b[0m\u001b[0mlearning_rate\u001b[0m \u001b[0;34m=\u001b[0m \u001b[0;36m0.05\u001b[0m\u001b[0;34m\u001b[0m\u001b[0m\n\u001b[0;32m---> 26\u001b[0;31m \u001b[0mtrain_err_log\u001b[0m\u001b[0;34m,\u001b[0m \u001b[0mtest_err_log\u001b[0m \u001b[0;34m=\u001b[0m \u001b[0mtrain\u001b[0m\u001b[0;34m(\u001b[0m\u001b[0mnum_epochs\u001b[0m\u001b[0;34m,\u001b[0m \u001b[0mbatch_size\u001b[0m\u001b[0;34m,\u001b[0m \u001b[0mxnode\u001b[0m\u001b[0;34m,\u001b[0m \u001b[0mynode\u001b[0m\u001b[0;34m,\u001b[0m \u001b[0mprobnode\u001b[0m\u001b[0;34m,\u001b[0m \u001b[0mlossnode\u001b[0m\u001b[0;34m)\u001b[0m\u001b[0;34m\u001b[0m\u001b[0m\n\u001b[0m",
      "\u001b[0;32m<ipython-input-2-a9117a64c9dd>\u001b[0m in \u001b[0;36mtrain\u001b[0;34m(num_epochs, batch_size, xnode, ynode, probnode, lossnode)\u001b[0m\n\u001b[1;32m     28\u001b[0m     \u001b[0;32mfor\u001b[0m \u001b[0mepoch\u001b[0m \u001b[0;32min\u001b[0m \u001b[0mrange\u001b[0m\u001b[0;34m(\u001b[0m\u001b[0mnum_epochs\u001b[0m\u001b[0;34m)\u001b[0m\u001b[0;34m:\u001b[0m\u001b[0;34m\u001b[0m\u001b[0m\n\u001b[1;32m     29\u001b[0m         \u001b[0mprint\u001b[0m\u001b[0;34m(\u001b[0m\u001b[0;34m\"Epoch: {}/{}\"\u001b[0m\u001b[0;34m.\u001b[0m\u001b[0mformat\u001b[0m\u001b[0;34m(\u001b[0m\u001b[0mepoch\u001b[0m\u001b[0;34m+\u001b[0m\u001b[0;36m1\u001b[0m\u001b[0;34m,\u001b[0m \u001b[0mnum_epochs\u001b[0m\u001b[0;34m)\u001b[0m\u001b[0;34m)\u001b[0m\u001b[0;34m\u001b[0m\u001b[0m\n\u001b[0;32m---> 30\u001b[0;31m         \u001b[0mtrain_err\u001b[0m \u001b[0;34m=\u001b[0m \u001b[0mrun_epoch\u001b[0m\u001b[0;34m(\u001b[0m\u001b[0mbatch_size\u001b[0m\u001b[0;34m,\u001b[0m \u001b[0mtrain_images\u001b[0m\u001b[0;34m,\u001b[0m \u001b[0mtrain_labels\u001b[0m\u001b[0;34m,\u001b[0m \u001b[0mxnode\u001b[0m\u001b[0;34m,\u001b[0m \u001b[0mynode\u001b[0m\u001b[0;34m,\u001b[0m \u001b[0mprobnode\u001b[0m\u001b[0;34m,\u001b[0m \u001b[0mlossnode\u001b[0m\u001b[0;34m)\u001b[0m\u001b[0;34m\u001b[0m\u001b[0m\n\u001b[0m\u001b[1;32m     31\u001b[0m         \u001b[0mtrain_err_log\u001b[0m\u001b[0;34m.\u001b[0m\u001b[0mappend\u001b[0m\u001b[0;34m(\u001b[0m\u001b[0mtrain_err\u001b[0m\u001b[0;34m)\u001b[0m\u001b[0;34m\u001b[0m\u001b[0m\n\u001b[1;32m     32\u001b[0m         \u001b[0mprint\u001b[0m \u001b[0;34m(\u001b[0m\u001b[0;34m\"\\t Training Error {:.2f} %\"\u001b[0m\u001b[0;34m.\u001b[0m\u001b[0mformat\u001b[0m\u001b[0;34m(\u001b[0m\u001b[0mtrain_err\u001b[0m\u001b[0;34m)\u001b[0m\u001b[0;34m)\u001b[0m\u001b[0;34m\u001b[0m\u001b[0m\n",
      "\u001b[0;32m<ipython-input-2-a9117a64c9dd>\u001b[0m in \u001b[0;36mrun_epoch\u001b[0;34m(batch_size, data, labels, xnode, ynode, probnode, lossnode)\u001b[0m\n\u001b[1;32m     13\u001b[0m         \u001b[0mxnode\u001b[0m\u001b[0;34m.\u001b[0m\u001b[0mvalue\u001b[0m \u001b[0;34m=\u001b[0m \u001b[0mshuffled_train_images\u001b[0m\u001b[0;34m[\u001b[0m\u001b[0mstart\u001b[0m\u001b[0;34m:\u001b[0m\u001b[0mend\u001b[0m\u001b[0;34m]\u001b[0m\u001b[0;34m\u001b[0m\u001b[0m\n\u001b[1;32m     14\u001b[0m         \u001b[0mynode\u001b[0m\u001b[0;34m.\u001b[0m\u001b[0mvalue\u001b[0m \u001b[0;34m=\u001b[0m \u001b[0mshuffled_train_labels\u001b[0m\u001b[0;34m[\u001b[0m\u001b[0mstart\u001b[0m\u001b[0;34m:\u001b[0m\u001b[0mend\u001b[0m\u001b[0;34m]\u001b[0m\u001b[0;34m\u001b[0m\u001b[0m\n\u001b[0;32m---> 15\u001b[0;31m         \u001b[0medf\u001b[0m\u001b[0;34m.\u001b[0m\u001b[0mForward\u001b[0m\u001b[0;34m(\u001b[0m\u001b[0;34m)\u001b[0m\u001b[0;34m\u001b[0m\u001b[0m\n\u001b[0m\u001b[1;32m     16\u001b[0m         \u001b[0mtotal_err\u001b[0m \u001b[0;34m+=\u001b[0m \u001b[0mnp\u001b[0m\u001b[0;34m.\u001b[0m\u001b[0msum\u001b[0m\u001b[0;34m(\u001b[0m\u001b[0mnp\u001b[0m\u001b[0;34m.\u001b[0m\u001b[0mnot_equal\u001b[0m\u001b[0;34m(\u001b[0m\u001b[0mnp\u001b[0m\u001b[0;34m.\u001b[0m\u001b[0margmax\u001b[0m\u001b[0;34m(\u001b[0m\u001b[0mprobnode\u001b[0m\u001b[0;34m.\u001b[0m\u001b[0mvalue\u001b[0m\u001b[0;34m,\u001b[0m \u001b[0maxis\u001b[0m\u001b[0;34m=\u001b[0m\u001b[0;36m1\u001b[0m\u001b[0;34m)\u001b[0m\u001b[0;34m,\u001b[0m \u001b[0mynode\u001b[0m\u001b[0;34m.\u001b[0m\u001b[0mvalue\u001b[0m\u001b[0;34m)\u001b[0m\u001b[0;34m)\u001b[0m\u001b[0;34m\u001b[0m\u001b[0m\n\u001b[1;32m     17\u001b[0m         \u001b[0;32mif\u001b[0m \u001b[0mlossnode\u001b[0m\u001b[0;34m:\u001b[0m\u001b[0;34m\u001b[0m\u001b[0m\n",
      "\u001b[0;32m~/Desktop/ttic31230-deep-learning/hw2/edf.py\u001b[0m in \u001b[0;36mForward\u001b[0;34m()\u001b[0m\n\u001b[1;32m     15\u001b[0m \u001b[0;34m\u001b[0m\u001b[0m\n\u001b[1;32m     16\u001b[0m \u001b[0;32mdef\u001b[0m \u001b[0mForward\u001b[0m\u001b[0;34m(\u001b[0m\u001b[0;34m)\u001b[0m\u001b[0;34m:\u001b[0m\u001b[0;34m\u001b[0m\u001b[0m\n\u001b[0;32m---> 17\u001b[0;31m     \u001b[0;32mfor\u001b[0m \u001b[0mc\u001b[0m \u001b[0;32min\u001b[0m \u001b[0mCompNodes\u001b[0m\u001b[0;34m:\u001b[0m \u001b[0mc\u001b[0m\u001b[0;34m.\u001b[0m\u001b[0mforward\u001b[0m\u001b[0;34m(\u001b[0m\u001b[0;34m)\u001b[0m\u001b[0;34m\u001b[0m\u001b[0m\n\u001b[0m\u001b[1;32m     18\u001b[0m \u001b[0;34m\u001b[0m\u001b[0m\n\u001b[1;32m     19\u001b[0m \u001b[0;32mdef\u001b[0m \u001b[0mBackward\u001b[0m\u001b[0;34m(\u001b[0m\u001b[0mloss\u001b[0m\u001b[0;34m)\u001b[0m\u001b[0;34m:\u001b[0m\u001b[0;34m\u001b[0m\u001b[0m\n",
      "\u001b[0;32m<ipython-input-3-b0532b6ffc9e>\u001b[0m in \u001b[0;36mforward\u001b[0;34m(self)\u001b[0m\n\u001b[1;32m    143\u001b[0m \u001b[0;34m\u001b[0m\u001b[0m\n\u001b[1;32m    144\u001b[0m     \u001b[0;32mdef\u001b[0m \u001b[0mforward\u001b[0m\u001b[0;34m(\u001b[0m\u001b[0mself\u001b[0m\u001b[0;34m)\u001b[0m\u001b[0;34m:\u001b[0m\u001b[0;34m\u001b[0m\u001b[0m\n\u001b[0;32m--> 145\u001b[0;31m         \u001b[0mself\u001b[0m\u001b[0;34m.\u001b[0m\u001b[0mvalue\u001b[0m \u001b[0;34m=\u001b[0m \u001b[0mself\u001b[0m\u001b[0;34m.\u001b[0m\u001b[0mx1\u001b[0m\u001b[0;34m.\u001b[0m\u001b[0mvalue\u001b[0m \u001b[0;34m@\u001b[0m \u001b[0mself\u001b[0m\u001b[0;34m.\u001b[0m\u001b[0mx2\u001b[0m\u001b[0;34m.\u001b[0m\u001b[0mvalue\u001b[0m\u001b[0;34m\u001b[0m\u001b[0m\n\u001b[0m\u001b[1;32m    146\u001b[0m \u001b[0;34m\u001b[0m\u001b[0m\n\u001b[1;32m    147\u001b[0m     \u001b[0;32mdef\u001b[0m \u001b[0mbackward\u001b[0m\u001b[0;34m(\u001b[0m\u001b[0mself\u001b[0m\u001b[0;34m)\u001b[0m\u001b[0;34m:\u001b[0m\u001b[0;34m\u001b[0m\u001b[0m\n",
      "\u001b[0;31mValueError\u001b[0m: matmul: Input operand 1 has a mismatch in its core dimension 0, with gufunc signature (n?,k),(k,m?)->(n?,m?) (size 9 is different from 32)"
     ]
    }
   ],
   "source": [
    "np.random.seed(1234)\n",
    "batch_size = 64\n",
    "edf.clear_compgraph()\n",
    "xnode = edf.Input()\n",
    "ynode = edf.Input()\n",
    "\n",
    "dim = 32\n",
    "patch_size = 8\n",
    "seq_len = (24 // patch_size)**2\n",
    "\n",
    "u = Conv(xnode, 1, dim, patch_size, 0, patch_size)\n",
    "u = Reshape(u, (dim, seq_len))\n",
    "u = Transpose(u, 1, 2)\n",
    "\n",
    "u = TransformerLayer(u, dim, dim)\n",
    "u = TransformerLayer(u, dim, dim)\n",
    "\n",
    "u = Reshape(u, (seq_len*dim,))\n",
    "scores = Affine(u, seq_len*dim, 10)\n",
    "\n",
    "probnode = edf.Softmax(scores)\n",
    "lossnode = edf.LogLoss(probnode, ynode)\n",
    "\n",
    "num_epochs = 10\n",
    "edf.learning_rate = 0.05\n",
    "train_err_log, test_err_log = train(num_epochs, batch_size, xnode, ynode, probnode, lossnode)"
   ]
  },
  {
   "cell_type": "code",
   "execution_count": null,
   "metadata": {},
   "outputs": [],
   "source": []
  }
 ],
 "metadata": {
  "anaconda-cloud": {},
  "kernelspec": {
   "display_name": "Python 3",
   "language": "python",
   "name": "python3"
  },
  "language_info": {
   "codemirror_mode": {
    "name": "ipython",
    "version": 3
   },
   "file_extension": ".py",
   "mimetype": "text/x-python",
   "name": "python",
   "nbconvert_exporter": "python",
   "pygments_lexer": "ipython3",
   "version": "3.5.2"
  }
 },
 "nbformat": 4,
 "nbformat_minor": 1
}
