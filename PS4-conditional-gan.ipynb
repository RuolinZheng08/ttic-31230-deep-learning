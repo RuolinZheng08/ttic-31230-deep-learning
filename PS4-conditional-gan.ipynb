{
 "cells": [
  {
   "cell_type": "markdown",
   "metadata": {
    "id": "pa4Z_RwvQOxd"
   },
   "source": [
    "# Instructions\n",
    "\n",
    "As in the previous assignment, youl'll be using PyTorch instead of EDF. This assignment will focus on generative modelling, and you'll implement and train a VAE and a GAN.\n",
    "\n",
    "It is highly suggested to use google colab and run the notebook on a GPU node.\n",
    "Check https://colab.research.google.com/ and look for tutorials online on how to use it. To use a GPU go to Runtime -> Change runtime type and select GPU."
   ]
  },
  {
   "cell_type": "code",
   "execution_count": 1,
   "metadata": {
    "id": "1ZjnJPFe1xB7"
   },
   "outputs": [],
   "source": [
    "%matplotlib inline\n",
    "import torch, math, copy\n",
    "import numpy as np\n",
    "import matplotlib.pyplot as plt\n",
    "import seaborn as sns\n",
    "import torchvision\n",
    "from torchvision import datasets, transforms\n",
    "import torch.nn as nn\n",
    "import torch.nn.init as init\n",
    "import torch.nn.functional as F\n",
    "from scipy.stats import kde\n",
    "import matplotlib.pyplot as plt"
   ]
  },
  {
   "cell_type": "code",
   "execution_count": 2,
   "metadata": {},
   "outputs": [
    {
     "data": {
      "text/plain": [
       "True"
      ]
     },
     "execution_count": 2,
     "metadata": {},
     "output_type": "execute_result"
    }
   ],
   "source": [
    "torch.cuda.is_available()"
   ]
  },
  {
   "cell_type": "code",
   "execution_count": 3,
   "metadata": {},
   "outputs": [],
   "source": [
    "torch.manual_seed(0)\n",
    "#torch.set_deterministic(True)\n",
    "np.random.seed(0)"
   ]
  },
  {
   "cell_type": "markdown",
   "metadata": {
    "id": "iwg7bM9QoYrY"
   },
   "source": [
    "In this second part of the assignment you'll train a VAE and a GAN on a more interesting dataset. The cell below will try to download and load CelebA, and will just load MNIST in case there is an error.\n",
    "\n",
    "It is likely that you'll get an error when trying to download CelebA since the its google drive is always out of quota. If you'd like to use CelebA anyway, you can try to download it from here http://mmlab.ie.cuhk.edu.hk/projects/CelebA.html or some other source. If you're not running this notebook on a GPU then use MNIST instead."
   ]
  },
  {
   "cell_type": "markdown",
   "metadata": {
    "id": "emI0y4fh4DXL"
   },
   "source": [
    "## VAE and GANs on CelebA/MNIST"
   ]
  },
  {
   "cell_type": "code",
   "execution_count": 4,
   "metadata": {},
   "outputs": [],
   "source": [
    "N_IN_CHANNELS = 1 # graymap\n",
    "N_CLASSES = 10\n",
    "BATCH_SIZE = 32\n",
    "IMG_SIZE = 64"
   ]
  },
  {
   "cell_type": "code",
   "execution_count": 5,
   "metadata": {},
   "outputs": [],
   "source": [
    "transform = transforms.Compose([\n",
    "    transforms.Resize(IMG_SIZE), \n",
    "    transforms.CenterCrop(IMG_SIZE),\n",
    "    transforms.ToTensor(),  \n",
    "    transforms.Normalize((0.5,), (0.5,))])"
   ]
  },
  {
   "cell_type": "code",
   "execution_count": 6,
   "metadata": {
    "id": "j79_U6cf1xCA"
   },
   "outputs": [],
   "source": [
    "dataset = datasets.MNIST(\"data\", train=True, download=True, transform=transform)"
   ]
  },
  {
   "cell_type": "code",
   "execution_count": 7,
   "metadata": {},
   "outputs": [],
   "source": [
    "LABELS = torch.LongTensor(range(N_CLASSES)).cuda()\n",
    "LABELS_ONEHOT = F.one_hot(LABELS, N_CLASSES)"
   ]
  },
  {
   "cell_type": "code",
   "execution_count": 8,
   "metadata": {},
   "outputs": [],
   "source": [
    "loader = torch.utils.data.DataLoader(dataset, batch_size=BATCH_SIZE, shuffle=True)"
   ]
  },
  {
   "cell_type": "code",
   "execution_count": 9,
   "metadata": {
    "id": "c15YX5GvBp-R"
   },
   "outputs": [],
   "source": [
    "# from google.colab.patches import cv2_imshow\n",
    "import cv2\n",
    "\n",
    "def show(x):\n",
    "    img = x.data.cpu().permute(1, 2, 0).numpy()\n",
    "    img = cv2.cvtColor(img, cv2.COLOR_BGR2RGB)\n",
    "    # cv2_imshow(img)\n",
    "    plt.figure()\n",
    "    plt.imshow(img)\n",
    "    plt.show()"
   ]
  },
  {
   "cell_type": "code",
   "execution_count": 10,
   "metadata": {},
   "outputs": [
    {
     "data": {
      "image/png": "[encoded data removed]",
      "text/plain": [
       "<Figure size 432x288 with 1 Axes>"
      ]
     },
     "metadata": {
      "needs_background": "light"
     },
     "output_type": "display_data"
    }
   ],
   "source": [
    "data = [dataset[i][0] for i in range(10)]\n",
    "grid_img = torchvision.utils.make_grid(data, nrow=10, normalize=True)\n",
    "show(grid_img)"
   ]
  },
  {
   "cell_type": "markdown",
   "metadata": {},
   "source": [
    "We'll use a a CNN for the VAE instead of the simple model we defined previously.\n",
    "Implement a network following these specifications:\n",
    "\n",
    "- Encoder. Should have 4 conv layers, each with kernel size 4, stride 2 and padding 1, which decrease the spatial resolution by half. The output of the 4th conv (a spatial res. 4x4) should be flattened and then fully connected layers should be used to compute mu and logvar. Add whichever activation function you prefer between the conv layers (ReLU, LeakyReLU, ELU, etc), and feel free to add batch norm as well. Let the first conv layer have, say, 8 or 16 channels and then double the number of channels at each following conv layer.\n",
    "\n",
    "- Decoder. Try to have an architecture that is roughly symmetric to the encoder. For example, start with a fully connected layer to project the latent_dim dimensional input such that you end up with a (128x4x4)-dimensional vector that you can reshape into a 4x4 image. Then you can apply 4 transposed conv layers, e.g. with kernel size 4, stride 2 and padding 1, to double the spatial resolution with each layer, having a final output of size 64x64. Start with around 64 or 128 channels for the first transposed conv and then halve the number of channels at each following conv layer. As before, add your preferred activation function between layers, with or without batch norm.\n",
    "\n",
    "The encode, sample, and decode methods have the same specification as before."
   ]
  },
  {
   "cell_type": "markdown",
   "metadata": {},
   "source": [
    "The cell below applies a 'patch' in case you're using google colab (cv2_imshow doesn't work properly on google colab without it). Feel free to comment out the first import if you're not using google colab (you might have to add from cv2 import cv2_imshow, though)."
   ]
  },
  {
   "cell_type": "markdown",
   "metadata": {},
   "source": [
    "Again, try to find a value for beta that yields reasonable results."
   ]
  },
  {
   "cell_type": "markdown",
   "metadata": {},
   "source": [
    "You'll also re-implement the Generator and Discriminator modules for the GAN, adopting a CNN-like architecture.\n",
    "\n",
    "For the generator, implement a network similar to the one you used for the VAE decoder (fully connected for projection followed by 4 transposed convolutions), while for the discriminator you should use a network similar to the VAE encoder (4 conv layers with stride 2, but note that the output should be a scalar per image, not a latent vector)."
   ]
  },
  {
   "cell_type": "code",
   "execution_count": 23,
   "metadata": {
    "id": "KvOE5m9vNLrR"
   },
   "outputs": [],
   "source": [
    "class ConditionalConvGenerator(nn.Module):\n",
    "    def __init__(self, latent_dim, n_in_channels, n_classes, img_size):\n",
    "        \"\"\"\n",
    "        assume img has same height and width\n",
    "        \"\"\"\n",
    "        super(ConditionalConvGenerator, self).__init__()\n",
    "        self.latent_dim = latent_dim\n",
    "\n",
    "        n_channels = 16 # tuneable hyperparam\n",
    "        self.n_channels = n_channels\n",
    "        self.emb_size = 128\n",
    "        self.flat_dim = n_channels * 8 * 4 * 4\n",
    "        \n",
    "        # to embed noise\n",
    "        self.emb = nn.Embedding(n_classes, self.emb_size)\n",
    "        self.decoder_fc = nn.Linear(latent_dim + self.emb_size, self.flat_dim)\n",
    "        self.network = nn.Sequential(\n",
    "            nn.ConvTranspose2d(n_channels * 8, n_channels * 4, 4, 2, 1),\n",
    "            nn.ReLU(),\n",
    "            nn.ConvTranspose2d(n_channels * 4, n_channels * 2, 4, 2, 1),\n",
    "            nn.ReLU(),\n",
    "            nn.ConvTranspose2d(n_channels * 2, n_channels, 4, 2, 1),\n",
    "            nn.ReLU(),\n",
    "            nn.ConvTranspose2d(n_channels, n_in_channels, 4, 2, 1)\n",
    "        )\n",
    "    \n",
    "    def decode(self, input):\n",
    "        # implementation goes here\n",
    "        out = self.decoder_fc(input) \n",
    "        out = out.reshape(-1, self.n_channels * 8, 4, 4)\n",
    "        out = self.network(out)\n",
    "        return out\n",
    "\n",
    "    def forward(self, n, y):\n",
    "        \"\"\"\n",
    "        y must be scalar labels\n",
    "        \"\"\"\n",
    "        z = torch.randn(n, self.latent_dim).cuda()\n",
    "        embed = self.emb(y)\n",
    "        z = torch.cat((z, embed), dim=1)\n",
    "        samples = self.decode(z)\n",
    "        return samples"
   ]
  },
  {
   "cell_type": "code",
   "execution_count": 28,
   "metadata": {
    "id": "B0aJNT5NNXKt"
   },
   "outputs": [],
   "source": [
    "class ConditionalConvDiscriminator(nn.Module):\n",
    "    def __init__(self, latent_dim, n_in_channels, n_classes, img_size):\n",
    "        super(ConditionalConvDiscriminator, self).__init__()\n",
    "        self.latent_dim = latent_dim\n",
    "\n",
    "        n_channels = 16\n",
    "        self.n_channels = n_channels\n",
    "        self.flat_dim = n_channels * 8 * 4 * 4\n",
    "        self.n_in_channels = n_in_channels\n",
    "        \n",
    "        # to embed class labels\n",
    "        self.emb = nn.Embedding(n_classes, img_size * img_size)\n",
    "        self.network = nn.Sequential(\n",
    "            # one more channel from label\n",
    "            nn.Conv2d(n_in_channels + 1, n_channels, 4, 2, 1),\n",
    "            nn.ReLU(),\n",
    "            nn.Conv2d(n_channels, n_channels * 2, 4, 2, 1),\n",
    "            nn.ReLU(),\n",
    "            nn.Conv2d(n_channels * 2, n_channels * 4, 4, 2, 1),\n",
    "            nn.ReLU(),\n",
    "            nn.Conv2d(n_channels * 4, n_channels * 8, 4, 2, 1),\n",
    "            nn.Flatten(),\n",
    "            nn.Linear(self.flat_dim, 1) # scalar output\n",
    "            # no need for sigmoid as we are using BCEWithLogitsLoss\n",
    "        )\n",
    "    \n",
    "    def forward(self, x, y):\n",
    "        # implementation goes here\n",
    "        embed = self.emb(y).view(y.shape[0], 1, x.shape[-2], x.shape[-1])\n",
    "        x = torch.cat((x, embed), dim=1)\n",
    "        out = self.network(x)\n",
    "        return out"
   ]
  },
  {
   "cell_type": "code",
   "execution_count": 32,
   "metadata": {
    "id": "XWV-Q1k0OGfE"
   },
   "outputs": [],
   "source": [
    "generator = ConditionalConvGenerator(100, N_IN_CHANNELS, N_CLASSES, IMG_SIZE).cuda()\n",
    "gopt = torch.optim.Adam(generator.parameters(), lr=5e-4, betas=(0.5, 0.999))\n",
    "discriminator = ConditionalConvDiscriminator(100, N_IN_CHANNELS, N_CLASSES, IMG_SIZE).cuda()\n",
    "dopt = torch.optim.Adam(discriminator.parameters(), lr=5e-4, betas=(0.5, 0.999))\n",
    "criterion = torch.nn.BCEWithLogitsLoss()"
   ]
  },
  {
   "cell_type": "code",
   "execution_count": 33,
   "metadata": {
    "colab": {
     "base_uri": "https://localhost:8080/",
     "height": 868
    },
    "id": "QkWAtlqMOLDG",
    "outputId": "9ac41412-77e6-491c-cd63-2723f0cb3123"
   },
   "outputs": [
    {
     "name": "stdout",
     "output_type": "stream",
     "text": [
      "generator loss 0.7035627365112305, discriminator loss 1.3895983695983887\n"
     ]
    },
    {
     "data": {
      "image/png": "[encoded data removed]",
      "text/plain": [
       "<Figure size 432x288 with 1 Axes>"
      ]
     },
     "metadata": {
      "needs_background": "light"
     },
     "output_type": "display_data"
    },
    {
     "name": "stdout",
     "output_type": "stream",
     "text": [
      "generator loss 3.6590747833251953, discriminator loss 0.16635039448738098\n"
     ]
    },
    {
     "data": {
      "image/png": "[encoded data removed]",
      "text/plain": [
       "<Figure size 432x288 with 1 Axes>"
      ]
     },
     "metadata": {
      "needs_background": "light"
     },
     "output_type": "display_data"
    },
    {
     "ename": "KeyboardInterrupt",
     "evalue": "",
     "output_type": "error",
     "traceback": [
      "\u001b[0;31m---------------------------------------------------------------------------\u001b[0m",
      "\u001b[0;31mKeyboardInterrupt\u001b[0m                         Traceback (most recent call last)",
      "\u001b[0;32m<ipython-input-33-f3050513266c>\u001b[0m in \u001b[0;36m<module>\u001b[0;34m\u001b[0m\n\u001b[1;32m     26\u001b[0m         \u001b[0mdloss\u001b[0m \u001b[0;34m+=\u001b[0m \u001b[0mcriterion\u001b[0m\u001b[0;34m(\u001b[0m\u001b[0mpreds_fake\u001b[0m\u001b[0;34m,\u001b[0m \u001b[0mdisc_labels_fake\u001b[0m\u001b[0;34m)\u001b[0m\u001b[0;34m\u001b[0m\u001b[0;34m\u001b[0m\u001b[0m\n\u001b[1;32m     27\u001b[0m         \u001b[0mdopt\u001b[0m\u001b[0;34m.\u001b[0m\u001b[0mzero_grad\u001b[0m\u001b[0;34m(\u001b[0m\u001b[0;34m)\u001b[0m\u001b[0;34m\u001b[0m\u001b[0;34m\u001b[0m\u001b[0m\n\u001b[0;32m---> 28\u001b[0;31m         \u001b[0mdloss\u001b[0m\u001b[0;34m.\u001b[0m\u001b[0mbackward\u001b[0m\u001b[0;34m(\u001b[0m\u001b[0;34m)\u001b[0m\u001b[0;34m\u001b[0m\u001b[0;34m\u001b[0m\u001b[0m\n\u001b[0m\u001b[1;32m     29\u001b[0m         \u001b[0mdopt\u001b[0m\u001b[0;34m.\u001b[0m\u001b[0mstep\u001b[0m\u001b[0;34m(\u001b[0m\u001b[0;34m)\u001b[0m\u001b[0;34m\u001b[0m\u001b[0;34m\u001b[0m\u001b[0m\n\u001b[1;32m     30\u001b[0m \u001b[0;34m\u001b[0m\u001b[0m\n",
      "\u001b[0;32m/scratch/ruolinzheng/conda/envs/py38/lib/python3.8/site-packages/torch/tensor.py\u001b[0m in \u001b[0;36mbackward\u001b[0;34m(self, gradient, retain_graph, create_graph)\u001b[0m\n\u001b[1;32m    183\u001b[0m                 \u001b[0mproducts\u001b[0m\u001b[0;34m.\u001b[0m \u001b[0mDefaults\u001b[0m \u001b[0mto\u001b[0m\u001b[0;31m \u001b[0m\u001b[0;31m`\u001b[0m\u001b[0;31m`\u001b[0m\u001b[0;32mFalse\u001b[0m\u001b[0;31m`\u001b[0m\u001b[0;31m`\u001b[0m\u001b[0;34m.\u001b[0m\u001b[0;34m\u001b[0m\u001b[0;34m\u001b[0m\u001b[0m\n\u001b[1;32m    184\u001b[0m         \"\"\"\n\u001b[0;32m--> 185\u001b[0;31m         \u001b[0mtorch\u001b[0m\u001b[0;34m.\u001b[0m\u001b[0mautograd\u001b[0m\u001b[0;34m.\u001b[0m\u001b[0mbackward\u001b[0m\u001b[0;34m(\u001b[0m\u001b[0mself\u001b[0m\u001b[0;34m,\u001b[0m \u001b[0mgradient\u001b[0m\u001b[0;34m,\u001b[0m \u001b[0mretain_graph\u001b[0m\u001b[0;34m,\u001b[0m \u001b[0mcreate_graph\u001b[0m\u001b[0;34m)\u001b[0m\u001b[0;34m\u001b[0m\u001b[0;34m\u001b[0m\u001b[0m\n\u001b[0m\u001b[1;32m    186\u001b[0m \u001b[0;34m\u001b[0m\u001b[0m\n\u001b[1;32m    187\u001b[0m     \u001b[0;32mdef\u001b[0m \u001b[0mregister_hook\u001b[0m\u001b[0;34m(\u001b[0m\u001b[0mself\u001b[0m\u001b[0;34m,\u001b[0m \u001b[0mhook\u001b[0m\u001b[0;34m)\u001b[0m\u001b[0;34m:\u001b[0m\u001b[0;34m\u001b[0m\u001b[0;34m\u001b[0m\u001b[0m\n",
      "\u001b[0;32m/scratch/ruolinzheng/conda/envs/py38/lib/python3.8/site-packages/torch/autograd/__init__.py\u001b[0m in \u001b[0;36mbackward\u001b[0;34m(tensors, grad_tensors, retain_graph, create_graph, grad_variables)\u001b[0m\n\u001b[1;32m    123\u001b[0m         \u001b[0mretain_graph\u001b[0m \u001b[0;34m=\u001b[0m \u001b[0mcreate_graph\u001b[0m\u001b[0;34m\u001b[0m\u001b[0;34m\u001b[0m\u001b[0m\n\u001b[1;32m    124\u001b[0m \u001b[0;34m\u001b[0m\u001b[0m\n\u001b[0;32m--> 125\u001b[0;31m     Variable._execution_engine.run_backward(\n\u001b[0m\u001b[1;32m    126\u001b[0m         \u001b[0mtensors\u001b[0m\u001b[0;34m,\u001b[0m \u001b[0mgrad_tensors\u001b[0m\u001b[0;34m,\u001b[0m \u001b[0mretain_graph\u001b[0m\u001b[0;34m,\u001b[0m \u001b[0mcreate_graph\u001b[0m\u001b[0;34m,\u001b[0m\u001b[0;34m\u001b[0m\u001b[0;34m\u001b[0m\u001b[0m\n\u001b[1;32m    127\u001b[0m         allow_unreachable=True)  # allow_unreachable flag\n",
      "\u001b[0;31mKeyboardInterrupt\u001b[0m: "
     ]
    }
   ],
   "source": [
    "BATCH_SIZE = 32\n",
    "for epoch in range(30):\n",
    "    for i, (x, y) in enumerate(loader):\n",
    "        real_x = x.cuda()\n",
    "        real_y = y.cuda()\n",
    "        fake_x = generator(BATCH_SIZE, real_y).cuda()\n",
    "        fake_y = torch.LongTensor(torch.randint(0, N_CLASSES, size=(BATCH_SIZE,))).cuda()\n",
    "        \n",
    "        disc_labels_real = torch.ones((BATCH_SIZE,), dtype=torch.float).cuda()\n",
    "        disc_labels_fake = torch.zeros((BATCH_SIZE,), dtype=torch.float).cuda()\n",
    "\n",
    "        # Train G\n",
    "        # tell discriminator these are real data\n",
    "        preds_fake = discriminator(fake_x, real_y).squeeze().cuda()\n",
    "        gloss = criterion(preds_fake, disc_labels_real)\n",
    "        gopt.zero_grad()\n",
    "        gloss.backward()\n",
    "        gopt.step()\n",
    "\n",
    "        # Train D to tell if the labelled images are fake\n",
    "        # real\n",
    "        preds_real = discriminator(real_x, real_y).squeeze().cuda()\n",
    "        dloss = criterion(preds_real, disc_labels_real)    \n",
    "        # fake, detach so grad doesn't go into generator\n",
    "        preds_fake = discriminator(fake_x.detach(), fake_y).squeeze().cuda()\n",
    "        dloss += criterion(preds_fake, disc_labels_fake)\n",
    "        dopt.zero_grad()\n",
    "        dloss.backward()\n",
    "        dopt.step()\n",
    "        \n",
    "        if i == 0:\n",
    "            print('generator loss {}, discriminator loss {}'.format(gloss.item(), dloss.item()))\n",
    "            data = generator(10, LABELS)\n",
    "            grid_img = torchvision.utils.make_grid(data, nrow=10, normalize=True)\n",
    "            show(grid_img)"
   ]
  },
  {
   "cell_type": "code",
   "execution_count": null,
   "metadata": {},
   "outputs": [],
   "source": []
  },
  {
   "cell_type": "code",
   "execution_count": null,
   "metadata": {},
   "outputs": [],
   "source": []
  }
 ],
 "metadata": {
  "accelerator": "GPU",
  "anaconda-cloud": {},
  "colab": {
   "collapsed_sections": [],
   "name": "PS4.ipynb",
   "provenance": []
  },
  "kernelspec": {
   "display_name": "py38",
   "language": "python",
   "name": "py38"
  },
  "language_info": {
   "codemirror_mode": {
    "name": "ipython",
    "version": 3
   },
   "file_extension": ".py",
   "mimetype": "text/x-python",
   "name": "python",
   "nbconvert_exporter": "python",
   "pygments_lexer": "ipython3",
   "version": "3.8.3"
  }
 },
 "nbformat": 4,
 "nbformat_minor": 1
}
